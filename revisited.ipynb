{
 "cells": [
  {
   "cell_type": "code",
   "execution_count": 275,
   "metadata": {},
   "outputs": [],
   "source": [
    "import pandas as pd\n",
    "from math import ceil"
   ]
  },
  {
   "cell_type": "markdown",
   "metadata": {},
   "source": [
    "<h2>Banking Analysis</h2>"
   ]
  },
  {
   "cell_type": "code",
   "execution_count": 276,
   "metadata": {},
   "outputs": [
    {
     "data": {
      "text/html": [
       "<div>\n",
       "<style scoped>\n",
       "    .dataframe tbody tr th:only-of-type {\n",
       "        vertical-align: middle;\n",
       "    }\n",
       "\n",
       "    .dataframe tbody tr th {\n",
       "        vertical-align: top;\n",
       "    }\n",
       "\n",
       "    .dataframe thead th {\n",
       "        text-align: right;\n",
       "    }\n",
       "</style>\n",
       "<table border=\"1\" class=\"dataframe\">\n",
       "  <thead>\n",
       "    <tr style=\"text-align: right;\">\n",
       "      <th></th>\n",
       "      <th>Date</th>\n",
       "      <th>Profit/Losses</th>\n",
       "    </tr>\n",
       "  </thead>\n",
       "  <tbody>\n",
       "    <tr>\n",
       "      <th>0</th>\n",
       "      <td>Jan-2010</td>\n",
       "      <td>867884</td>\n",
       "    </tr>\n",
       "    <tr>\n",
       "      <th>1</th>\n",
       "      <td>Feb-2010</td>\n",
       "      <td>984655</td>\n",
       "    </tr>\n",
       "    <tr>\n",
       "      <th>2</th>\n",
       "      <td>Mar-2010</td>\n",
       "      <td>322013</td>\n",
       "    </tr>\n",
       "    <tr>\n",
       "      <th>3</th>\n",
       "      <td>Apr-2010</td>\n",
       "      <td>-69417</td>\n",
       "    </tr>\n",
       "    <tr>\n",
       "      <th>4</th>\n",
       "      <td>May-2010</td>\n",
       "      <td>310503</td>\n",
       "    </tr>\n",
       "  </tbody>\n",
       "</table>\n",
       "</div>"
      ],
      "text/plain": [
       "       Date  Profit/Losses\n",
       "0  Jan-2010         867884\n",
       "1  Feb-2010         984655\n",
       "2  Mar-2010         322013\n",
       "3  Apr-2010         -69417\n",
       "4  May-2010         310503"
      ]
     },
     "execution_count": 276,
     "metadata": {},
     "output_type": "execute_result"
    }
   ],
   "source": [
    "# importing banking data\n",
    "filepath1 = 'Resources/budget_data.csv'\n",
    "\n",
    "pybank = pd.read_csv(filepath1)\n",
    "\n",
    "pybank.head()"
   ]
  },
  {
   "cell_type": "code",
   "execution_count": 277,
   "metadata": {},
   "outputs": [],
   "source": [
    "# total number of months included in the dataset\n",
    "month_count = pybank['Date'].nunique()\n",
    "\n",
    "# net total amount of Profit/Losses\n",
    "net_amount = pybank['Profit/Losses'].sum()\n",
    "\n",
    "# average of the changes in Profit/Losses\n",
    "differences = pybank['Profit/Losses'].diff()\n",
    "avg_changes = round(differences[1:].mean(), 2)\n",
    "\n",
    "# greatest increase in profits (date and amount) over the entire period\n",
    "max_profit = pybank.loc[pybank['Profit/Losses'] == pybank['Profit/Losses'].max(), :]\n",
    "max_profit.set_index('Date', inplace=True)\n",
    "\n",
    "# greatest decrease in profits (date and amount) over the entire period\n",
    "max_loss = pybank.loc[pybank['Profit/Losses'] == pybank['Profit/Losses'].min(), :]\n",
    "max_loss.set_index('Date', inplace=True)"
   ]
  },
  {
   "cell_type": "code",
   "execution_count": 279,
   "metadata": {},
   "outputs": [
    {
     "name": "stdout",
     "output_type": "stream",
     "text": [
      "\n",
      "  Financial Analysis\n",
      "  ----------------------------\n",
      "  Total Months: 86\n",
      "  Total: $38382578\n",
      "  Average  Change: $-2315.12\n",
      "  Greatest Increase in Profits: Feb-2012 ($1170593)\n",
      "  Greatest Decrease in Profits: Sep-2013 ($-1196225)\n",
      "  \n"
     ]
    }
   ],
   "source": [
    "print(f'''\n",
    "  Financial Analysis\n",
    "  ----------------------------\n",
    "  Total Months: {month_count}\n",
    "  Total: ${net_amount}\n",
    "  Average  Change: ${avg_changes}\n",
    "  Greatest Increase in Profits: {max_profit.index[0]} (${max_profit['Profit/Losses'][0]})\n",
    "  Greatest Decrease in Profits: {max_loss.index[0]} (${max_loss['Profit/Losses'][0]})\n",
    "  ''')"
   ]
  },
  {
   "cell_type": "markdown",
   "metadata": {},
   "source": [
    "<h2>Election Analysis</h2>"
   ]
  },
  {
   "cell_type": "code",
   "execution_count": 280,
   "metadata": {},
   "outputs": [
    {
     "data": {
      "text/html": [
       "<div>\n",
       "<style scoped>\n",
       "    .dataframe tbody tr th:only-of-type {\n",
       "        vertical-align: middle;\n",
       "    }\n",
       "\n",
       "    .dataframe tbody tr th {\n",
       "        vertical-align: top;\n",
       "    }\n",
       "\n",
       "    .dataframe thead th {\n",
       "        text-align: right;\n",
       "    }\n",
       "</style>\n",
       "<table border=\"1\" class=\"dataframe\">\n",
       "  <thead>\n",
       "    <tr style=\"text-align: right;\">\n",
       "      <th></th>\n",
       "      <th>Voter ID</th>\n",
       "      <th>County</th>\n",
       "      <th>Candidate</th>\n",
       "    </tr>\n",
       "  </thead>\n",
       "  <tbody>\n",
       "    <tr>\n",
       "      <th>0</th>\n",
       "      <td>12864552</td>\n",
       "      <td>Marsh</td>\n",
       "      <td>Khan</td>\n",
       "    </tr>\n",
       "    <tr>\n",
       "      <th>1</th>\n",
       "      <td>17444633</td>\n",
       "      <td>Marsh</td>\n",
       "      <td>Correy</td>\n",
       "    </tr>\n",
       "    <tr>\n",
       "      <th>2</th>\n",
       "      <td>19330107</td>\n",
       "      <td>Marsh</td>\n",
       "      <td>Khan</td>\n",
       "    </tr>\n",
       "    <tr>\n",
       "      <th>3</th>\n",
       "      <td>19865775</td>\n",
       "      <td>Queen</td>\n",
       "      <td>Khan</td>\n",
       "    </tr>\n",
       "    <tr>\n",
       "      <th>4</th>\n",
       "      <td>11927875</td>\n",
       "      <td>Marsh</td>\n",
       "      <td>Khan</td>\n",
       "    </tr>\n",
       "  </tbody>\n",
       "</table>\n",
       "</div>"
      ],
      "text/plain": [
       "   Voter ID County Candidate\n",
       "0  12864552  Marsh      Khan\n",
       "1  17444633  Marsh    Correy\n",
       "2  19330107  Marsh      Khan\n",
       "3  19865775  Queen      Khan\n",
       "4  11927875  Marsh      Khan"
      ]
     },
     "execution_count": 280,
     "metadata": {},
     "output_type": "execute_result"
    }
   ],
   "source": [
    "# importing election data\n",
    "filepath2 = 'Resources/election_data.csv'\n",
    "\n",
    "pypoll = pd.read_csv(filepath2)\n",
    "pypoll.head()"
   ]
  },
  {
   "cell_type": "code",
   "execution_count": 281,
   "metadata": {},
   "outputs": [
    {
     "data": {
      "text/plain": [
       "1"
      ]
     },
     "execution_count": 281,
     "metadata": {},
     "output_type": "execute_result"
    }
   ],
   "source": [
    "# total number of votes\n",
    "# pd.dataframe.duplicated() returns only one value, FALSE, indicating no duplicate votes\n",
    "\n",
    "total_votes = pypoll_df['Voter ID'].count()\n",
    "\n",
    "pypoll_df.duplicated(subset=['Voter ID']).nunique()"
   ]
  },
  {
   "cell_type": "code",
   "execution_count": 282,
   "metadata": {},
   "outputs": [],
   "source": [
    "# percentage of votes won by each candidate\n",
    "percent_won = pypoll['Candidate'].value_counts(normalize=True)\n",
    "\n",
    "\n",
    "# number of votes won by each candidate\n",
    "votes_won = pypoll['Candidate'].value_counts()\n",
    "\n",
    "\n",
    "# winner of election based on popular vote\n",
    "votes_won.sort_values(ascending=False)\n",
    "winner = votes_won.index[0]"
   ]
  },
  {
   "cell_type": "code",
   "execution_count": 283,
   "metadata": {},
   "outputs": [
    {
     "name": "stdout",
     "output_type": "stream",
     "text": [
      "\n",
      "  Election Results\n",
      "  -------------------------\n",
      "  Total Votes: 3521001\n",
      "  -------------------------\n",
      "  Khan: 63.0% (2218231)\n",
      "  Correy: 20.0% (704200)\n",
      "  Li: 14.000000000000002% (492940)\n",
      "  O'Tooley: 3.0% (105630)\n",
      "  -------------------------\n",
      "  Winner: Khan\n",
      "  -------------------------\n",
      "  \n"
     ]
    }
   ],
   "source": [
    "print(f'''\n",
    "  Election Results\n",
    "  -------------------------\n",
    "  Total Votes: {total_votes}\n",
    "  -------------------------\n",
    "  {votes_won.index[0]}: {percent_won[0].round(2) * 100}% ({votes_won[0]})\n",
    "  {votes_won.index[1]}: {percent_won[1].round(2) * 100}% ({votes_won[1]})\n",
    "  {votes_won.index[2]}: {percent_won[2].round(2) * 100}% ({votes_won[2]})\n",
    "  {votes_won.index[3]}: {percent_won[3].round(2) * 100}% ({votes_won[3]})\n",
    "  -------------------------\n",
    "  Winner: {winner}\n",
    "  -------------------------\n",
    "  ''')"
   ]
  },
  {
   "cell_type": "code",
   "execution_count": null,
   "metadata": {},
   "outputs": [],
   "source": []
  }
 ],
 "metadata": {
  "kernelspec": {
   "display_name": "Python 3",
   "language": "python",
   "name": "python3"
  },
  "language_info": {
   "codemirror_mode": {
    "name": "ipython",
    "version": 3
   },
   "file_extension": ".py",
   "mimetype": "text/x-python",
   "name": "python",
   "nbconvert_exporter": "python",
   "pygments_lexer": "ipython3",
   "version": "3.7.6"
  }
 },
 "nbformat": 4,
 "nbformat_minor": 4
}